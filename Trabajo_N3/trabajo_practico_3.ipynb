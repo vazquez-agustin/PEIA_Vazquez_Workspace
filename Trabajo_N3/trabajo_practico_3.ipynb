{
 "cells": [
  {
   "cell_type": "markdown",
   "id": "a6b7e691-3693-4923-9212-706f76a01e3d",
   "metadata": {},
   "source": [
    "# Probabilidad y Estadística para Inteligencia Artificial\n",
    "\n",
    "- **Alumno:** Agustín Jesús Vazquez (e2301)"
   ]
  },
  {
   "cell_type": "code",
   "execution_count": 1,
   "id": "c01f223b-274b-40a9-be98-eb1df97766fd",
   "metadata": {},
   "outputs": [],
   "source": [
    "# Importamos librerías necesarias para el desarrollo\n",
    "\n",
    "import pandas as pd\n",
    "import numpy as np\n",
    "import scipy.stats as stats\n",
    "import matplotlib.pyplot as plt\n",
    "import seaborn as sns"
   ]
  },
  {
   "cell_type": "markdown",
   "id": "5360f4da-4c98-487a-88a7-9f0ca8fff179",
   "metadata": {},
   "source": [
    "## Ejercicio N°1"
   ]
  },
  {
   "cell_type": "markdown",
   "id": "6e4f0fa4-c668-4cef-8ffc-149ce498366f",
   "metadata": {},
   "source": [
    "Siguiendo con la historia de Don Francisco, con el tiempo y gracias a los análisis de Matías, el pequeño comerciante de barrio cuenta hoy con 5 supermercados: 'Santa Ana', 'La Floresta', 'Los Cedros', 'Palermo' y 'Córdoba'. También Matías ha avanzado en la Especialización en Inteligencia Artificial. Un día Don Francisco le plantea algunas inquietudes adicionales:\n",
    "\n",
    "1. Don Francisco quiere entender mejor las ventas por mes del supermercado 'Santa Ana'.\n",
    "2. Más aún, Don Francisco no sabe si puede estar seguro de que las ventas son las mismas en todos los supermercados o si hay alguno que se comporte mejor que los demás, y si alguna de las tiendas necesite más atención porque sus ventas sean peores que los demás. Con base en lo anterior,\n",
    "- **(3 puntos)** Determinen intervalos de confianza empíricos para el supermercado 'Santa Ana' en cada mes, para significancias del 95% y el 99%.\n",
    "- **(4 puntos)** Realicen pruebas ANOVA para determinar si las ventas esperadas de todas las tiendas son iguales o no, con significancia del 95.\n",
    "- **(3 puntos)** Identifiquen la tienda con mayor promedio de ventas y la tienda con menor promedio de ventas y realicen una prueba de hipótesis para determinar si la diferencia entre ellas es distinta de cero o no.\n",
    "\n",
    "Deben realizar un informe en un documento pdf, en donde queden claros los siguientes aspectos:\n",
    " 1. Planteamiento de los problemas de investigación\n",
    " 2. Procesamiento realizado a los datos\n",
    " 3. Resultados encontrados\n",
    " 4. Análisis y conclusiones"
   ]
  },
  {
   "cell_type": "markdown",
   "id": "a3fed97f-46aa-41e3-b0ff-2a23e6e527ef",
   "metadata": {},
   "source": [
    "### Resolución N°1"
   ]
  },
  {
   "cell_type": "markdown",
   "id": "2ef2f536-13ff-40c3-936f-d61f6820b871",
   "metadata": {},
   "source": [
    "- Se cargan todas las hojas del archivo Excel.\n",
    "- Se unifican en un único `DataFrame` y se agrega una columna `Supermercado` con el nombre de cada hoja.\n",
    "- Se convierte la columna de fechas al tipo `datetime` y se extrae el mes correspondiente.\n",
    "\n",
    "Este paso permite tener toda la información consolidada en una única estructura para análisis estadístico."
   ]
  },
  {
   "cell_type": "code",
   "execution_count": 2,
   "id": "22dfb695-627b-4860-829c-ec2b2e6b32a0",
   "metadata": {},
   "outputs": [
    {
     "name": "stdout",
     "output_type": "stream",
     "text": [
      "<class 'pandas.core.frame.DataFrame'>\n",
      "RangeIndex: 365 entries, 0 to 364\n",
      "Data columns (total 2 columns):\n",
      " #   Column  Non-Null Count  Dtype         \n",
      "---  ------  --------------  -----         \n",
      " 0   Fecha   365 non-null    datetime64[ns]\n",
      " 1   Ventas  365 non-null    float64       \n",
      "dtypes: datetime64[ns](1), float64(1)\n",
      "memory usage: 5.8 KB\n"
     ]
    },
    {
     "data": {
      "text/plain": [
       "(       Fecha        Ventas\n",
       " 0 2023-01-01  13915.653632\n",
       " 1 2023-01-02  16713.749511\n",
       " 2 2023-01-03  17415.852595\n",
       " 3 2023-01-04  19494.023926\n",
       " 4 2023-01-05  22818.799458,\n",
       " None,\n",
       "                      Fecha        Ventas\n",
       " count                  365    365.000000\n",
       " mean   2023-07-02 00:00:00  20990.659056\n",
       " min    2023-01-01 00:00:00  11333.434399\n",
       " 25%    2023-04-02 00:00:00  18759.655091\n",
       " 50%    2023-07-02 00:00:00  21248.570814\n",
       " 75%    2023-10-01 00:00:00  23010.314328\n",
       " max    2023-12-31 00:00:00  28860.143317\n",
       " std                    NaN   3080.749475)"
      ]
     },
     "execution_count": 2,
     "metadata": {},
     "output_type": "execute_result"
    }
   ],
   "source": [
    "# Cargar datos\n",
    "file_path = 'Enunciado y datos/Datos_TP_final_23Co2025_e2301.xlsx'\n",
    "excel_file = pd.ExcelFile(file_path)\n",
    "\n",
    "df = pd.read_excel(file_path)\n",
    "\n",
    "# Vista general\n",
    "df.head(), df.info(), df.describe()"
   ]
  },
  {
   "cell_type": "code",
   "execution_count": 3,
   "id": "86c0adff-c7c5-40bd-9154-43de17d50417",
   "metadata": {},
   "outputs": [
    {
     "name": "stdout",
     "output_type": "stream",
     "text": [
      "Hojas encontradas: ['Santa Ana', 'La Floresta', 'Los Cedros', 'Palermo', 'Córdoba']\n"
     ]
    }
   ],
   "source": [
    "# 1. Obtener nombres de las hojas\n",
    "hojas = excel_file.sheet_names\n",
    "print(\"Hojas encontradas:\", hojas)"
   ]
  },
  {
   "cell_type": "code",
   "execution_count": 4,
   "id": "3231adb0-52b5-4ffd-9744-8738bdf2eae8",
   "metadata": {},
   "outputs": [
    {
     "data": {
      "text/html": [
       "<div>\n",
       "<style scoped>\n",
       "    .dataframe tbody tr th:only-of-type {\n",
       "        vertical-align: middle;\n",
       "    }\n",
       "\n",
       "    .dataframe tbody tr th {\n",
       "        vertical-align: top;\n",
       "    }\n",
       "\n",
       "    .dataframe thead th {\n",
       "        text-align: right;\n",
       "    }\n",
       "</style>\n",
       "<table border=\"1\" class=\"dataframe\">\n",
       "  <thead>\n",
       "    <tr style=\"text-align: right;\">\n",
       "      <th></th>\n",
       "      <th>Fecha</th>\n",
       "      <th>Ventas</th>\n",
       "      <th>Supermercado</th>\n",
       "      <th>Mes</th>\n",
       "    </tr>\n",
       "  </thead>\n",
       "  <tbody>\n",
       "    <tr>\n",
       "      <th>0</th>\n",
       "      <td>2023-01-01</td>\n",
       "      <td>13915.653632</td>\n",
       "      <td>Santa Ana</td>\n",
       "      <td>1</td>\n",
       "    </tr>\n",
       "    <tr>\n",
       "      <th>1</th>\n",
       "      <td>2023-01-02</td>\n",
       "      <td>16713.749511</td>\n",
       "      <td>Santa Ana</td>\n",
       "      <td>1</td>\n",
       "    </tr>\n",
       "    <tr>\n",
       "      <th>2</th>\n",
       "      <td>2023-01-03</td>\n",
       "      <td>17415.852595</td>\n",
       "      <td>Santa Ana</td>\n",
       "      <td>1</td>\n",
       "    </tr>\n",
       "    <tr>\n",
       "      <th>3</th>\n",
       "      <td>2023-01-04</td>\n",
       "      <td>19494.023926</td>\n",
       "      <td>Santa Ana</td>\n",
       "      <td>1</td>\n",
       "    </tr>\n",
       "    <tr>\n",
       "      <th>4</th>\n",
       "      <td>2023-01-05</td>\n",
       "      <td>22818.799458</td>\n",
       "      <td>Santa Ana</td>\n",
       "      <td>1</td>\n",
       "    </tr>\n",
       "  </tbody>\n",
       "</table>\n",
       "</div>"
      ],
      "text/plain": [
       "       Fecha        Ventas Supermercado  Mes\n",
       "0 2023-01-01  13915.653632    Santa Ana    1\n",
       "1 2023-01-02  16713.749511    Santa Ana    1\n",
       "2 2023-01-03  17415.852595    Santa Ana    1\n",
       "3 2023-01-04  19494.023926    Santa Ana    1\n",
       "4 2023-01-05  22818.799458    Santa Ana    1"
      ]
     },
     "execution_count": 4,
     "metadata": {},
     "output_type": "execute_result"
    }
   ],
   "source": [
    "# 2. Leer cada hoja, agregar columna 'Supermercado' con el nombre de la hoja\n",
    "dfs = []\n",
    "for hoja in hojas:\n",
    "    temp_df = pd.read_excel(file_path, sheet_name=hoja)\n",
    "    temp_df['Supermercado'] = hoja        # <--- aquí agregamos el nombre de la hoja\n",
    "    dfs.append(temp_df)\n",
    "\n",
    "# 3. Unir todas las hojas en un solo DataFrame\n",
    "df = pd.concat(dfs, ignore_index=True)\n",
    "\n",
    "# 4. Asegurar formato correcto de fecha y extraer mes\n",
    "df['Fecha'] = pd.to_datetime(df['Fecha'], dayfirst=True)\n",
    "df['Mes'] = df['Fecha'].dt.month\n",
    "\n",
    "df.head()"
   ]
  },
  {
   "cell_type": "markdown",
   "id": "14d484ed-a3f1-4ad3-ad06-8d3bc6751c22",
   "metadata": {},
   "source": [
    "#### Intervalos de confianza"
   ]
  },
  {
   "cell_type": "markdown",
   "id": "53935022-1835-4bcb-8e26-1501f4ffae59",
   "metadata": {},
   "source": [
    "- Se filtran los registros correspondientes al supermercado **Santa Ana**.\n",
    "- Se agrupan las ventas por mes.\n",
    "- Se calculan intervalos de confianza para la media de ventas mensual, tanto al **95 %** como al **99 %**.\n",
    "- Se utiliza la distribución *t* de Student debido a que trabajamos con muestras y no con parámetros poblacionales conocidos."
   ]
  },
  {
   "cell_type": "code",
   "execution_count": 11,
   "id": "7b53f683-b113-43bc-8b0f-b758e47fd841",
   "metadata": {},
   "outputs": [
    {
     "data": {
      "text/html": [
       "<div>\n",
       "<style scoped>\n",
       "    .dataframe tbody tr th:only-of-type {\n",
       "        vertical-align: middle;\n",
       "    }\n",
       "\n",
       "    .dataframe tbody tr th {\n",
       "        vertical-align: top;\n",
       "    }\n",
       "\n",
       "    .dataframe thead th {\n",
       "        text-align: right;\n",
       "    }\n",
       "</style>\n",
       "<table border=\"1\" class=\"dataframe\">\n",
       "  <thead>\n",
       "    <tr style=\"text-align: right;\">\n",
       "      <th></th>\n",
       "      <th>Mes</th>\n",
       "      <th>Media</th>\n",
       "      <th>IC 95%</th>\n",
       "      <th>IC 99%</th>\n",
       "    </tr>\n",
       "  </thead>\n",
       "  <tbody>\n",
       "    <tr>\n",
       "      <th>0</th>\n",
       "      <td>1</td>\n",
       "      <td>17080.033021</td>\n",
       "      <td>(16092.60249316092, 18067.463548793676)</td>\n",
       "      <td>(15750.421170552427, 18409.644871402168)</td>\n",
       "    </tr>\n",
       "    <tr>\n",
       "      <th>1</th>\n",
       "      <td>2</td>\n",
       "      <td>19161.388437</td>\n",
       "      <td>(17854.31583549823, 20468.46103940395)</td>\n",
       "      <td>(17396.38701415431, 20926.38986074787)</td>\n",
       "    </tr>\n",
       "    <tr>\n",
       "      <th>2</th>\n",
       "      <td>3</td>\n",
       "      <td>21986.340046</td>\n",
       "      <td>(21020.97544084233, 22951.704652143122)</td>\n",
       "      <td>(20686.440779156936, 23286.239313828515)</td>\n",
       "    </tr>\n",
       "    <tr>\n",
       "      <th>3</th>\n",
       "      <td>4</td>\n",
       "      <td>20059.823371</td>\n",
       "      <td>(19109.945755538283, 21009.70098720921)</td>\n",
       "      <td>(18779.659414933798, 21339.987327813695)</td>\n",
       "    </tr>\n",
       "    <tr>\n",
       "      <th>4</th>\n",
       "      <td>5</td>\n",
       "      <td>21220.437809</td>\n",
       "      <td>(20345.360834872827, 22095.514782736933)</td>\n",
       "      <td>(20042.11418825913, 22398.76142935063)</td>\n",
       "    </tr>\n",
       "    <tr>\n",
       "      <th>5</th>\n",
       "      <td>6</td>\n",
       "      <td>22295.229575</td>\n",
       "      <td>(21329.911546753392, 23260.547603164552)</td>\n",
       "      <td>(20994.256348925483, 23596.20280099246)</td>\n",
       "    </tr>\n",
       "    <tr>\n",
       "      <th>6</th>\n",
       "      <td>7</td>\n",
       "      <td>20858.711829</td>\n",
       "      <td>(19895.991676986858, 21821.43198182281)</td>\n",
       "      <td>(19562.3734164853, 22155.050242324367)</td>\n",
       "    </tr>\n",
       "    <tr>\n",
       "      <th>7</th>\n",
       "      <td>8</td>\n",
       "      <td>21951.956076</td>\n",
       "      <td>(20921.390167555506, 22982.52198487771)</td>\n",
       "      <td>(20564.26083467908, 23339.651317754135)</td>\n",
       "    </tr>\n",
       "    <tr>\n",
       "      <th>8</th>\n",
       "      <td>9</td>\n",
       "      <td>22908.471373</td>\n",
       "      <td>(21889.83992134723, 23927.10282381541)</td>\n",
       "      <td>(21535.64686653266, 24281.29587862998)</td>\n",
       "    </tr>\n",
       "    <tr>\n",
       "      <th>9</th>\n",
       "      <td>10</td>\n",
       "      <td>22174.217918</td>\n",
       "      <td>(21211.75345582581, 23136.682379763395)</td>\n",
       "      <td>(20878.22380155387, 23470.212034035332)</td>\n",
       "    </tr>\n",
       "    <tr>\n",
       "      <th>10</th>\n",
       "      <td>11</td>\n",
       "      <td>22229.783252</td>\n",
       "      <td>(21311.82874353817, 23147.737760986347)</td>\n",
       "      <td>(20992.642534206145, 23466.923970318374)</td>\n",
       "    </tr>\n",
       "    <tr>\n",
       "      <th>11</th>\n",
       "      <td>12</td>\n",
       "      <td>19898.382397</td>\n",
       "      <td>(18984.463061582905, 20812.301731984142)</td>\n",
       "      <td>(18667.756095303474, 21129.008698263573)</td>\n",
       "    </tr>\n",
       "  </tbody>\n",
       "</table>\n",
       "</div>"
      ],
      "text/plain": [
       "    Mes         Media                                    IC 95%  \\\n",
       "0     1  17080.033021   (16092.60249316092, 18067.463548793676)   \n",
       "1     2  19161.388437    (17854.31583549823, 20468.46103940395)   \n",
       "2     3  21986.340046   (21020.97544084233, 22951.704652143122)   \n",
       "3     4  20059.823371   (19109.945755538283, 21009.70098720921)   \n",
       "4     5  21220.437809  (20345.360834872827, 22095.514782736933)   \n",
       "5     6  22295.229575  (21329.911546753392, 23260.547603164552)   \n",
       "6     7  20858.711829   (19895.991676986858, 21821.43198182281)   \n",
       "7     8  21951.956076   (20921.390167555506, 22982.52198487771)   \n",
       "8     9  22908.471373    (21889.83992134723, 23927.10282381541)   \n",
       "9    10  22174.217918   (21211.75345582581, 23136.682379763395)   \n",
       "10   11  22229.783252   (21311.82874353817, 23147.737760986347)   \n",
       "11   12  19898.382397  (18984.463061582905, 20812.301731984142)   \n",
       "\n",
       "                                      IC 99%  \n",
       "0   (15750.421170552427, 18409.644871402168)  \n",
       "1     (17396.38701415431, 20926.38986074787)  \n",
       "2   (20686.440779156936, 23286.239313828515)  \n",
       "3   (18779.659414933798, 21339.987327813695)  \n",
       "4     (20042.11418825913, 22398.76142935063)  \n",
       "5    (20994.256348925483, 23596.20280099246)  \n",
       "6     (19562.3734164853, 22155.050242324367)  \n",
       "7    (20564.26083467908, 23339.651317754135)  \n",
       "8     (21535.64686653266, 24281.29587862998)  \n",
       "9    (20878.22380155387, 23470.212034035332)  \n",
       "10  (20992.642534206145, 23466.923970318374)  \n",
       "11  (18667.756095303474, 21129.008698263573)  "
      ]
     },
     "execution_count": 11,
     "metadata": {},
     "output_type": "execute_result"
    }
   ],
   "source": [
    "# Filtrar Santa Ana\n",
    "santa_ana = df[df['Supermercado'] == 'Santa Ana']\n",
    "\n",
    "# Agrupar por mes y calcular IC 95% y 99%\n",
    "conf_intervals = []\n",
    "for mes, grupo in santa_ana.groupby('Mes'):\n",
    "    n = len(grupo['Ventas'])\n",
    "    mean = np.mean(grupo['Ventas'])\n",
    "    std = np.std(grupo['Ventas'], ddof=1)\n",
    "    se = std / np.sqrt(n)\n",
    "    ci95 = stats.t.interval(0.95, n-1, loc=mean, scale=se)\n",
    "    ci99 = stats.t.interval(0.99, n-1, loc=mean, scale=se)\n",
    "    conf_intervals.append([mes, mean, ci95, ci99])\n",
    "\n",
    "conf_df = pd.DataFrame(conf_intervals, columns=['Mes', 'Media', 'IC 95%', 'IC 99%'])\n",
    "conf_df\n"
   ]
  },
  {
   "cell_type": "code",
   "execution_count": 12,
   "id": "1c8593d4-0484-49b8-84ae-89d50f488938",
   "metadata": {},
   "outputs": [
    {
     "data": {
      "image/png": "[encoded data removed]",
      "text/plain": [
       "<Figure size 1000x500 with 1 Axes>"
      ]
     },
     "metadata": {},
     "output_type": "display_data"
    }
   ],
   "source": [
    "plt.figure(figsize=(10,5))\n",
    "plt.errorbar(conf_df['Mes'], conf_df['Media'],\n",
    "             yerr=[conf_df['Media'] - conf_df['IC 95%'].apply(lambda x: x[0]),\n",
    "                   conf_df['IC 95%'].apply(lambda x: x[1]) - conf_df['Media']],\n",
    "             fmt='o', capsize=5)\n",
    "plt.title('Intervalos de confianza 95% - Santa Ana')\n",
    "plt.xlabel('Mes')\n",
    "plt.ylabel('Ventas')\n",
    "plt.grid()\n",
    "plt.show()"
   ]
  },
  {
   "cell_type": "markdown",
   "id": "52245ac9-937f-4aa5-96c1-48e36553ed8f",
   "metadata": {},
   "source": [
    "Santa Ana presenta un patrón de ventas estacional claro, con un pico entre mayo y septiembre y caídas en los extremos del año. Además, la incertidumbre es mayor en los meses de baja venta, lo que indica que la demanda es menos estable en esos períodos.\n",
    "\n",
    "Esto tiene implicancias para decisiones operativas:\n",
    "\n",
    "- Refuerzo de stock y personal en temporada alta.\n",
    "\n",
    "- Estrategias comerciales y promociones en temporada baja para estabilizar ventas."
   ]
  },
  {
   "cell_type": "markdown",
   "id": "f1952f22-664e-481f-bed3-93cd83d18ee0",
   "metadata": {},
   "source": [
    "#### Pruebas ANOVA"
   ]
  },
  {
   "cell_type": "markdown",
   "id": "6a508889-90f3-4f92-9b5b-4018886ed6cb",
   "metadata": {},
   "source": [
    "- Se aplica una **ANOVA de una vía** para comparar las medias de ventas entre todos los supermercados.\n",
    "- Hipótesis:\n",
    "  - H₀: Las medias de ventas son iguales.\n",
    "  - H₁: Al menos una media difiere.\n",
    "- Nivel de significancia: α = 0.05.\n",
    "\n",
    "Si el *p-value* < 0.05, se rechaza H₀ → **hay diferencias significativas** entre supermercados. Si no, no se rechaza H₀."
   ]
  },
  {
   "cell_type": "code",
   "execution_count": 14,
   "id": "f4ab07a4-ca46-478d-a3f8-3ef7c4d77fde",
   "metadata": {},
   "outputs": [
    {
     "name": "stdout",
     "output_type": "stream",
     "text": [
      "F-statistic: 126.0367, p-value: 0.0000\n",
      "❌ Se rechaza H₀: Hay diferencias significativas entre supermercados.\n"
     ]
    }
   ],
   "source": [
    "# Agrupar ventas por supermercado\n",
    "grupos = [ventas['Ventas'].values for _, ventas in df.groupby('Supermercado')]\n",
    "\n",
    "f_stat, p_value = stats.f_oneway(*grupos)\n",
    "print(f\"F-statistic: {f_stat:.4f}, p-value: {p_value:.4f}\")\n",
    "\n",
    "if p_value < 0.05:\n",
    "    print(\"❌ Se rechaza H₀: Hay diferencias significativas entre supermercados.\")\n",
    "else:\n",
    "    print(\"✅ No se rechaza H₀: No hay diferencias significativas entre supermercados.\")"
   ]
  },
  {
   "cell_type": "markdown",
   "id": "e7412e7d-04f6-4edc-a699-fb2580132eaa",
   "metadata": {},
   "source": [
    "En nuestro análisis, el *p-value* fue extremadamente pequeño, por lo que **se rechaza H₀**. Esto significa que **no todas las tiendas tienen el mismo promedio de ventas**."
   ]
  },
  {
   "cell_type": "markdown",
   "id": "c2107365-439b-4ac7-9c4e-7dc4f70bbe81",
   "metadata": {},
   "source": [
    "#### Promedio de ventas de tiendas"
   ]
  },
  {
   "cell_type": "markdown",
   "id": "704c8f4d-b10a-4bc6-88e6-0e1b2aecdda0",
   "metadata": {},
   "source": [
    "- Se calcula el promedio de ventas de cada tienda.\n",
    "- Se identifican las tiendas con mayor y menor promedio.\n",
    "- Se realiza una **prueba t de Welch**, que no asume igualdad de varianzas."
   ]
  },
  {
   "cell_type": "code",
   "execution_count": 15,
   "id": "b4875ed0-b182-4a3d-b0f9-41980a27fdf2",
   "metadata": {},
   "outputs": [
    {
     "name": "stdout",
     "output_type": "stream",
     "text": [
      "Tienda con menor promedio: Córdoba\n",
      "Tienda con mayor promedio: La Floresta\n",
      "T-statistic: 17.0210, p-value: 0.0000\n",
      "❌ Se rechaza H₀: La diferencia de medias es significativa.\n"
     ]
    }
   ],
   "source": [
    "mean_by_store = df.groupby('Supermercado')['Ventas'].mean().sort_values()\n",
    "store_min = mean_by_store.index[0]\n",
    "store_max = mean_by_store.index[-1]\n",
    "\n",
    "ventas_min = df[df['Supermercado'] == store_min]['Ventas']\n",
    "ventas_max = df[df['Supermercado'] == store_max]['Ventas']\n",
    "\n",
    "t_stat, p_val = stats.ttest_ind(ventas_max, ventas_min, equal_var=False)\n",
    "print(f\"Tienda con menor promedio: {store_min}\")\n",
    "print(f\"Tienda con mayor promedio: {store_max}\")\n",
    "print(f\"T-statistic: {t_stat:.4f}, p-value: {p_val:.4f}\")\n",
    "\n",
    "if p_val < 0.05:\n",
    "    print(\"❌ Se rechaza H₀: La diferencia de medias es significativa.\")\n",
    "else:\n",
    "    print(\"✅ No se rechaza H₀: No hay diferencia significativa.\")"
   ]
  },
  {
   "cell_type": "markdown",
   "id": "2c3c22d2-d921-417f-8100-64c0654be7f5",
   "metadata": {},
   "source": [
    "#### Conclusiones\n",
    "- Se observaron intervalos de confianza variables a lo largo del año para Santa Ana, lo cual puede indicar patrones estacionales.\n",
    "- La prueba ANOVA mostró diferencias estadísticamente significativas entre los supermercados.\n",
    "- La prueba t entre la tienda con mayor y menor promedio confirmó la existencia de diferencias significativas en las ventas.\n",
    "- Estos resultados podrían utilizarse para **focalizar estrategias comerciales** o **ajustar recursos** en las tiendas con menor rendimiento."
   ]
  }
 ],
 "metadata": {
  "kernelspec": {
   "display_name": "Python 3 (ipykernel)",
   "language": "python",
   "name": "python3"
  },
  "language_info": {
   "codemirror_mode": {
    "name": "ipython",
    "version": 3
   },
   "file_extension": ".py",
   "mimetype": "text/x-python",
   "name": "python",
   "nbconvert_exporter": "python",
   "pygments_lexer": "ipython3",
   "version": "3.11.13"
  }
 },
 "nbformat": 4,
 "nbformat_minor": 5
}
