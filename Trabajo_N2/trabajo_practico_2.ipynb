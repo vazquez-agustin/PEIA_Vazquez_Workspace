{
 "cells": [
  {
   "cell_type": "markdown",
   "id": "b6b53e59-e38d-4b41-80cc-8cc73965173e",
   "metadata": {},
   "source": [
    "# Probabilidad y Estadística para Inteligencia Artificial\n",
    "\n",
    "- **Alumno:** Agustín Jesús Vazquez (e2301)"
   ]
  },
  {
   "cell_type": "code",
   "execution_count": 30,
   "id": "f7e29032-3596-48bb-9d8c-7bc49f32b186",
   "metadata": {},
   "outputs": [],
   "source": [
    "# Importamos librerías necesarias para el desarrollo\n",
    "\n",
    "import numpy as np\n",
    "import matplotlib.pyplot as plt\n",
    "from scipy.stats import beta"
   ]
  },
  {
   "cell_type": "markdown",
   "id": "7ec92af6-e605-4401-99eb-23b2c397be18",
   "metadata": {},
   "source": [
    "## Ejercicio N°1"
   ]
  },
  {
   "cell_type": "markdown",
   "id": "7e867010-7afc-4652-87f1-c0d54836f0ba",
   "metadata": {},
   "source": [
    "Una variable aleatoria discreta **𝑋** puede tomar los valores 0, 1, 2 y 3. Las probabilidades para cada valor posible están dadas por la siguiente tabla:\n",
    "\n",
    "| 𝑋                    | 0                      | 1                    | 2                     | 3                        | \n",
    "|----------------------|------------------------|----------------------|-----------------------|--------------------------|\n",
    "| P                    |  $\\frac{3}{3 \\theta}$  | $\\frac{6}{3 \\theta}$ | $\\frac{1-3\\theta}{3}$ | $\\frac{2(1-3\\theta)}{3}$ |\n",
    "\n",
    "Si experimentalmente se obtienen los siguientes datos: (2, 2, 3, 2, 3, 2, 2, 2, 2, 2), determine el valor de θ usando el método de máxima verosimilitud."
   ]
  },
  {
   "cell_type": "markdown",
   "id": "f6d1db24-beb6-4ff1-966b-d73770c9bc07",
   "metadata": {
    "jp-MarkdownHeadingCollapsed": true
   },
   "source": [
    "### Resolución N°1"
   ]
  },
  {
   "cell_type": "markdown",
   "id": "38bfefa0-f2a1-4967-bba6-93932befd718",
   "metadata": {},
   "source": [
    "Según la tabla, la variable discreta **𝑋** puede tomar valores 0, 1, 2, 3 con:\n",
    "\n",
    "𝑃(𝑋=0) = $\\frac{3}{3 \\theta}$ = $\\frac{1}{\\theta}$, 𝑃(𝑋=1) = $\\frac{6}{3 \\theta}$ = $\\frac{2}{\\theta}$, 𝑃(𝑋=2) = $\\frac{1-3\\theta}{3}$, 𝑃(𝑋=3) = $\\frac{2(1-3\\theta)}{3}$"
   ]
  },
  {
   "cell_type": "markdown",
   "id": "22e24663-2732-416d-ac6d-0e688daae410",
   "metadata": {},
   "source": [
    "La función de verosimilitud para los datos observados es:\n",
    "\n",
    "$$\n",
    "L(\\theta) = \\prod_{i=1}^{n} P(X = x_i \\mid \\theta)\n",
    "$$\n",
    "\n",
    "Partimos de la verosimilitud (en la muestra solo aparecen 2 y 3, con\n",
    "conteos $n_2$ y $n_3$):\n",
    "\n",
    "$$\n",
    "L(\\theta)\n",
    "=\\left(\\frac{1-3\\theta}{3}\\right)^{n_2}\n",
    " \\left(\\frac{2(1-3\\theta)}{3}\\right)^{n_3}\n",
    "$$\n",
    "\n",
    "**1) Separar numeradores y denominadores**\n",
    "\n",
    "$$\n",
    "\\left(\\frac{1-3\\theta}{3}\\right)^{n_2}\n",
    "= \\frac{(1-3\\theta)^{n_2}}{3^{\\,n_2}}, \n",
    "\\qquad\n",
    "\\left(\\frac{2(1-3\\theta)}{3}\\right)^{n_3}\n",
    "= \\frac{2^{\\,n_3}(1-3\\theta)^{n_3}}{3^{\\,n_3}}\n",
    "$$\n",
    "\n",
    "Sustituyendo:\n",
    "\n",
    "$$\n",
    "L(\\theta)\n",
    "=\\frac{(1-3\\theta)^{n_2}}{3^{\\,n_2}}\n",
    " \\cdot\n",
    " \\frac{2^{\\,n_3}(1-3\\theta)^{n_3}}{3^{\\,n_3}}\n",
    "$$\n",
    "\n",
    "**2) Agrupar términos que dependen de $(\\theta)$ y constantes**\n",
    "\n",
    "Juntamos potencias de $(1-3\\theta)$ y de $3$:\n",
    "\n",
    "$$\n",
    "L(\\theta)\n",
    "= \\frac{2^{\\,n_3}}{3^{\\,n_2+n_3}}\n",
    "  \\, (1-3\\theta)^{\\,n_2+n_3}\n",
    "$$\n",
    "\n",
    "**3) Definir la constante \\(C\\)**\n",
    "\n",
    "La parte que **no** depende de $(\\theta)$ se define como\n",
    "\n",
    "$$\n",
    "C \\;=\\; \\frac{2^{\\,n_3}}{3^{\\,n_2+n_3}},\n",
    "$$\n",
    "\n",
    "y por lo tanto\n",
    "\n",
    "$$\n",
    "L(\\theta) \\;=\\; C \\, (1-3\\theta)^{\\,n_2+n_3}\n",
    "$$\n",
    "\n",
    "**Caso particular de la muestra** ($n_2$ = 8, $n_3$ = 2):\n",
    "\n",
    "$$\n",
    "C \\;=\\; \\frac{2^{\\,2}}{3^{\\,8+2}}\n",
    "= \\frac{4}{3^{10}},\n",
    "\\quad\\text{y}\\quad\n",
    "L(\\theta) \\;=\\; \\frac{4}{3^{10}}\\,(1-3\\theta)^{10}\n",
    "$$\n",
    "\n",
    "La región natural (para que 𝑃(𝑋=2), 𝑃(𝑋=3) ≥ 0) es $\\theta ≤ \\frac{1}{3}$. Además, por las fracciones $\\frac{1}{\\theta}$ en 𝑃(𝑋=0) y 𝑃(𝑋=1), imponemos que $\\theta$ > 0. Por lo tanto, $0 < \\theta ≤ \\frac{1}{3}$."
   ]
  },
  {
   "cell_type": "code",
   "execution_count": 3,
   "id": "efaaebe5-fccc-4b0c-9025-cdb7f071af13",
   "metadata": {},
   "outputs": [
    {
     "name": "stdout",
     "output_type": "stream",
     "text": [
      "Estimador de máxima verosimilitud (MLE) de θ: 1e-06\n"
     ]
    }
   ],
   "source": [
    "# Datos observados\n",
    "data = [2, 2, 3, 2, 3, 2, 2, 2, 2, 2]\n",
    "n2 = data.count(2)\n",
    "n3 = data.count(3)\n",
    "\n",
    "# Función de log-verosimilitud\n",
    "def loglike(theta):\n",
    "    # Dominio: 0 < theta <= 1/3\n",
    "    if theta <= 0 or theta > 1/3:\n",
    "        return -np.inf\n",
    "    p2 = (1 - 3*theta) / 3\n",
    "    p3 = 2*(1 - 3*theta) / 3\n",
    "    if p2 <= 0 or p3 <= 0:\n",
    "        return -np.inf\n",
    "    return n2*np.log(p2) + n3*np.log(p3)\n",
    "\n",
    "# Búsqueda en malla (grid search)\n",
    "thetas = np.linspace(1e-6, 1/3, 10000)   # malla de valores de theta\n",
    "lls = [loglike(t) for t in thetas]\n",
    "\n",
    "# Estimador de máxima verosimilitud\n",
    "theta_hat = thetas[np.argmax(lls)]\n",
    "print(\"Estimador de máxima verosimilitud (MLE) de θ:\", theta_hat)"
   ]
  },
  {
   "cell_type": "markdown",
   "id": "4ff151ca-d7e9-4c4d-bb51-f680703ff46b",
   "metadata": {},
   "source": [
    "El valor de $\\theta$ según el MLE es **1e-06**"
   ]
  },
  {
   "cell_type": "code",
   "execution_count": 4,
   "id": "3c0ed253-464a-4d37-840a-0d7b43a0b3b4",
   "metadata": {},
   "outputs": [
    {
     "data": {
      "image/png": "[encoded data removed]",
      "text/plain": [
       "<Figure size 640x480 with 1 Axes>"
      ]
     },
     "metadata": {},
     "output_type": "display_data"
    }
   ],
   "source": [
    "# Gráfico de la log-verosimilitud\n",
    "plt.figure()\n",
    "plt.plot(thetas, lls)\n",
    "plt.xlabel(r\"$\\theta$\")\n",
    "plt.ylabel(\"Log-verosimilitud\")\n",
    "plt.title(\"Función log-verosimilitud de θ\")\n",
    "plt.show()"
   ]
  },
  {
   "cell_type": "markdown",
   "id": "09e4bfdc-2897-45d5-b606-7e373d1cc68e",
   "metadata": {},
   "source": [
    "## Ejercicio N°2"
   ]
  },
  {
   "cell_type": "markdown",
   "id": "ddd48481-e6bb-44d0-a808-22bcb7cbbfb3",
   "metadata": {},
   "source": [
    "Se pretende estimar los valores de producción Y (en miles de toneladas) de cierto material, en función del tiempo transcurrido X (en meses) usando los valores de la tabla:\n",
    "\n",
    "| X     | Y     | \n",
    "|:-----:|:-----:|\n",
    "| 1     | 16    |\n",
    "| 8     | 33    |\n",
    "| 13    | 82    |\n",
    "| 17    | 361   |\n",
    "| 23    | 466   |\n",
    "\n",
    "Se plantea un modelo de la forma $Y = a+bx+cx^2$. Encontrar los estimadores de mínimos cuadrados para *a, b y c* en este modelo."
   ]
  },
  {
   "cell_type": "markdown",
   "id": "3dd114cd-5554-45c8-b506-2b72564d9051",
   "metadata": {
    "jp-MarkdownHeadingCollapsed": true
   },
   "source": [
    "### Resolución N°2"
   ]
  },
  {
   "cell_type": "markdown",
   "id": "3f37f0c2-2313-4a46-a329-4da00dbf534e",
   "metadata": {},
   "source": [
    "#### 1. Modelo\n",
    "Se plantea un modelo cuadrático para estimar la producción:\n",
    "\n",
    "$$\n",
    "Y = a+bx+cx^2\n",
    "$$\n",
    "\n",
    "donde:\n",
    "- **X** = tiempo transcurrido (meses),\n",
    "- **Y** = producción (miles de toneladas)."
   ]
  },
  {
   "cell_type": "markdown",
   "id": "f4b4c2da-9fb0-42fb-a95a-e5cb255b5d91",
   "metadata": {},
   "source": [
    "#### 2. Datos observados\n",
    "\n",
    "| X     | Y     | \n",
    "|:-----:|:-----:|\n",
    "| 1     | 16    |\n",
    "| 8     | 33    |\n",
    "| 13    | 82    |\n",
    "| 17    | 361   |\n",
    "| 23    | 466   |"
   ]
  },
  {
   "cell_type": "code",
   "execution_count": 26,
   "id": "78412888-ccb8-4ee9-a908-0bbbaa419a62",
   "metadata": {},
   "outputs": [],
   "source": [
    "# Datos\n",
    "x = np.array([1, 8, 13, 17, 23], dtype=float)\n",
    "y = np.array([16, 33, 82, 361, 466], dtype=float)\n",
    "\n",
    "# Matriz de diseño para modelo Y = a + b x + c x^2\n",
    "X = np.column_stack([np.ones_like(x), x, x**2])"
   ]
  },
  {
   "cell_type": "markdown",
   "id": "bc8d0518-b5eb-4ab1-989f-7c07b26f41f5",
   "metadata": {},
   "source": [
    "#### 3. Matriz de diseño\n",
    "El sistema de ecuaciones se escribe en forma matricial como:\n",
    "\n",
    "$$\n",
    "\\mathbf{X} =\n",
    "\\begin{bmatrix}\n",
    "1 & x_1 & x_1^2 \\\\\n",
    "1 & x_2 & x_2^2 \\\\\n",
    "\\vdots & \\vdots & \\vdots \\\\\n",
    "1 & x_n & x_n^2\n",
    "\\end{bmatrix}, \\quad\n",
    "\\mathbf{Y} =\n",
    "\\begin{bmatrix}\n",
    "y_1 \\\\ y_2 \\\\ \\vdots \\\\ y_n\n",
    "\\end{bmatrix}.\n",
    "$$\n",
    "\n",
    "Con los datos:\n",
    "\n",
    "$$\n",
    "\\mathbf{X} =\n",
    "\\begin{bmatrix}\n",
    "1 & 1 & 1 \\\\\n",
    "1 & 8 & 64 \\\\\n",
    "1 & 13 & 169 \\\\\n",
    "1 & 17 & 289 \\\\\n",
    "1 & 23 & 529\n",
    "\\end{bmatrix}, \\quad\n",
    "\\mathbf{Y} =\n",
    "\\begin{bmatrix}\n",
    "16 \\\\ 33 \\\\ 82 \\\\ 361 \\\\ 466\n",
    "\\end{bmatrix}.\n",
    "$$\n",
    "\n",
    "#### 4. Estimadores de mínimos cuadrados\n",
    "La solución de mínimos cuadrados es:\n",
    "\n",
    "$$\n",
    "\\hat{\\boldsymbol{\\beta}} =\n",
    "\\begin{bmatrix}\n",
    "\\hat{a} \\\\ \\hat{b} \\\\ \\hat{c}\n",
    "\\end{bmatrix}\n",
    "=\n",
    "(\\mathbf{X}^\\top \\mathbf{X})^{-1} \\mathbf{X}^\\top \\mathbf{y}.\n",
    "$$\n"
   ]
  },
  {
   "cell_type": "markdown",
   "id": "b3a5af18-669c-480c-823c-de0eb55d7b18",
   "metadata": {},
   "source": [
    "#### 5. Ecuaciones normales (forma escalar)\n",
    "Definimos las sumatorias:\n",
    "\n",
    "$$\n",
    "\\begin{aligned}\n",
    "n &= \\sum 1 = 5, \\\\\n",
    "S_x &= \\sum x_i = 62, \\\\\n",
    "S_{x^2} &= \\sum x_i^2 = 1052, \\\\\n",
    "S_{x^3} &= \\sum x_i^3 = 19790, \\\\\n",
    "S_{x^4} &= \\sum x_i^4 = 396020, \\\\\n",
    "S_y &= \\sum y_i = 958, \\\\\n",
    "S_{xy} &= \\sum x_i y_i = 18201, \\\\\n",
    "S_{x^2y} &= \\sum x_i^2 y_i = 366829.\n",
    "\\end{aligned}\n",
    "$$\n",
    "\n",
    "Con esto, las ecuaciones normales son:\n",
    "\n",
    "$$\n",
    "\\begin{bmatrix}\n",
    "n & S_x & S_{x^2} \\\\\n",
    "S_x & S_{x^2} & S_{x^3} \\\\\n",
    "S_{x^2} & S_{x^3} & S_{x^4}\n",
    "\\end{bmatrix}\n",
    "\\begin{bmatrix}\n",
    "\\hat{a} \\\\ \\hat{b} \\\\ \\hat{c}\n",
    "\\end{bmatrix}\n",
    "=\n",
    "\\begin{bmatrix}\n",
    "S_y \\\\ S_{xy} \\\\ S_{x^2y}\n",
    "\\end{bmatrix}.\n",
    "$$"
   ]
  },
  {
   "cell_type": "markdown",
   "id": "e8ca5132-4693-4bd9-8d61-c6fdf77a4f4f",
   "metadata": {},
   "source": [
    "#### 6. Solución numérica\n",
    "Resolviendo el sistema se obtiene:\n",
    "\n",
    "$$\n",
    "\\hat{a} \\approx 3.8033, \\quad\n",
    "\\hat{b} \\approx -2.6348, \\quad\n",
    "\\hat{c} \\approx 1.0479.\n",
    "$$\n",
    "\n",
    "Por lo tanto, el modelo ajustado es:\n",
    "\n",
    "$$\n",
    "\\hat{Y} = 3.8033 \\;-\\; 2.6348\\,X \\;+\\; 1.0479\\,X^2.\n",
    "$$"
   ]
  },
  {
   "cell_type": "code",
   "execution_count": 27,
   "id": "b8fc49aa-3fc9-43ae-9ff9-bfbadb78cd80",
   "metadata": {},
   "outputs": [
    {
     "name": "stdout",
     "output_type": "stream",
     "text": [
      "a_hat = 3.8033268852723365   b_hat = -2.634798318306913   c_hat = 1.0478525297610908\n"
     ]
    }
   ],
   "source": [
    "# Estimadores OLS: (X'X)^(-1) X' y\n",
    "beta_hat = np.linalg.lstsq(X, y, rcond=None)[0]\n",
    "a_hat, b_hat, c_hat = beta_hat\n",
    "print(\"a_hat =\", a_hat, \"  b_hat =\", b_hat, \"  c_hat =\", c_hat)"
   ]
  },
  {
   "cell_type": "markdown",
   "id": "43e147c9-b67d-4974-9d24-b640674e529c",
   "metadata": {},
   "source": [
    "#### 7. Calidad del ajuste\n",
    "Los residuos son:\n",
    "\n",
    "$$\n",
    "e_i = y_i - \\hat{y}_i,\n",
    "$$\n",
    "\n",
    "con suma de cuadrados del error (SSE):\n",
    "\n",
    "$$\n",
    "\\text{SSE} \\approx 15475.68,\n",
    "$$\n",
    "\n",
    "y coeficiente de determinación:\n",
    "\n",
    "$$\n",
    "R^2 \\approx 0.91,\n",
    "$$\n",
    "\n",
    "lo que indica que el modelo explica aproximadamente un **91% de la variabilidad** en los datos."
   ]
  },
  {
   "cell_type": "code",
   "execution_count": 28,
   "id": "7579e91e-6b59-41b7-973d-97184abf361c",
   "metadata": {},
   "outputs": [
    {
     "name": "stdout",
     "output_type": "stream",
     "text": [
      "SSE = 15475.681395681911   R^2 = 0.9100215508771166\n"
     ]
    }
   ],
   "source": [
    "# Predicciones y ajuste\n",
    "y_hat = X @ beta_hat\n",
    "resid = y - y_hat\n",
    "SSE = np.sum(resid**2)\n",
    "SST = np.sum((y - y.mean())**2)\n",
    "R2  = 1 - SSE/SST\n",
    "print(\"SSE =\", SSE, \"  R^2 =\", R2)"
   ]
  },
  {
   "cell_type": "code",
   "execution_count": 29,
   "id": "32da3255-d216-45db-84ed-ffd9370e7200",
   "metadata": {},
   "outputs": [
    {
     "data": {
      "image/png": "[encoded data removed]",
      "text/plain": [
       "<Figure size 700x500 with 1 Axes>"
      ]
     },
     "metadata": {},
     "output_type": "display_data"
    }
   ],
   "source": [
    "# Curva ajustada para visualizar\n",
    "xx = np.linspace(x.min()-1, x.max()+1, 400)\n",
    "yy = a_hat + b_hat*xx + c_hat*xx**2\n",
    "\n",
    "plt.figure(figsize=(7,5))\n",
    "plt.scatter(x, y, label=\"Datos\", zorder=3)\n",
    "plt.plot(xx, yy, label=\"Ajuste cuadrático\", linewidth=2)\n",
    "plt.xlabel(\"X (meses)\")\n",
    "plt.ylabel(\"Y (miles de toneladas)\")\n",
    "plt.title(\"Mínimos cuadrados: Y = a + bX + cX^2\")\n",
    "plt.legend()\n",
    "plt.grid(True, alpha=0.3)\n",
    "plt.show()"
   ]
  },
  {
   "cell_type": "markdown",
   "id": "6083e644-0953-4ade-8491-0cb93ce66b05",
   "metadata": {},
   "source": [
    "## Ejercicio N°3"
   ]
  },
  {
   "cell_type": "markdown",
   "id": "fedeea56-bde5-4364-bc05-4999362cef64",
   "metadata": {},
   "source": [
    "Don Francisco tiene 6 clientes a los que les ha vendido mercancías a crédito y, de ellos, 1 están en mora con el pago prometido. Matías, teniendo en cuenta la información disponible, considera que puede modelar el porcentaje p de morosidad según una distribución B(1,3). Para determinar los parámetros α y β, decide usar inferencia bayesiana. Con esto, pretende explicarle a Don Francisco, cómo sería el comportamiento de pago de sus clientes a crédito. Determinen la distribución a posteriori del parámetro p de porcentaje de morosidad (α y β). Determinar su media y su varianza."
   ]
  },
  {
   "cell_type": "markdown",
   "id": "364aa8c1-cc13-4d80-9ae6-fb9deb16696f",
   "metadata": {
    "jp-MarkdownHeadingCollapsed": true
   },
   "source": [
    "### Resolución N°3"
   ]
  },
  {
   "cell_type": "markdown",
   "id": "8224df5d-9971-45fb-97f5-f25ef5e4e93f",
   "metadata": {},
   "source": [
    "#### 1. Datos del problema\n",
    "- Don Francisco tiene $n = 6$ clientes.  \n",
    "- De ellos, $x = 1$ está en mora.  \n",
    "- Se desea modelar el **porcentaje de morosidad** $p$.  \n",
    "\n",
    "La verosimilitud de los datos proviene de una **distribución binomial**:\n",
    "\n",
    "$$\n",
    "X \\mid p \\sim \\text{Binomial}(n=6,\\;p),\n",
    "$$\n",
    "\n",
    "donde $X$ es el número de clientes en mora."
   ]
  },
  {
   "cell_type": "code",
   "execution_count": 13,
   "id": "d6314435-ac04-4aa6-9a35-924a25a2fe15",
   "metadata": {},
   "outputs": [],
   "source": [
    "# Datos\n",
    "n = 6   # número de clientes\n",
    "x = 1   # clientes en mora"
   ]
  },
  {
   "cell_type": "markdown",
   "id": "66738a41-3e51-42ce-8cec-83d4c20eec0f",
   "metadata": {},
   "source": [
    "#### 2. Elección del prior\n",
    "Se adopta un *prior Beta* para el parámetro de morosidad:\n",
    "\n",
    "$$\n",
    "p \\sim \\text{Beta}(\\alpha_0=1,\\;\\beta_0=3).\n",
    "$$\n",
    "\n",
    "La distribución Beta es conjugada de la binomial, lo que simplifica el cálculo de la posterior."
   ]
  },
  {
   "cell_type": "code",
   "execution_count": 14,
   "id": "1555a5ef-b2d1-48c7-ab6e-94998a7ef376",
   "metadata": {},
   "outputs": [],
   "source": [
    "# Prior: Beta(1,3)\n",
    "alpha0 = 1\n",
    "beta0 = 3"
   ]
  },
  {
   "cell_type": "markdown",
   "id": "1d27e62b-307f-4cc8-a558-30aa72240b05",
   "metadata": {},
   "source": [
    "#### 3. Posterior\n",
    "Si $p \\sim \\text{Beta}(\\alpha_0,\\beta_0)$ y observamos $x$ éxitos en $n$ ensayos binomiales, entonces:\n",
    "\n",
    "$$\n",
    "p \\mid x \\;\\sim\\; \\text{Beta}(\\alpha_0 + x,\\;\\beta_0 + n - x).\n",
    "$$\n",
    "\n",
    "Sustituyendo los valores:\n",
    "\n",
    "$$\n",
    "p \\mid x \\;\\sim\\; \\text{Beta}(1+1,\\;3+(6-1)) = \\text{Beta}(2,\\,8).\n",
    "$$"
   ]
  },
  {
   "cell_type": "code",
   "execution_count": 15,
   "id": "19e4246e-f121-4c4a-9395-b5c62b90b3fe",
   "metadata": {},
   "outputs": [
    {
     "name": "stdout",
     "output_type": "stream",
     "text": [
      "Posterior ~ Beta(2, 8)\n"
     ]
    }
   ],
   "source": [
    "# Posterior: Beta(alpha0 + x, beta0 + n - x)\n",
    "alpha_post = alpha0 + x\n",
    "beta_post = beta0 + n - x\n",
    "\n",
    "print(f\"Posterior ~ Beta({alpha_post}, {beta_post})\")"
   ]
  },
  {
   "cell_type": "markdown",
   "id": "2db51e42-ab59-4e06-aad4-d9835d9562de",
   "metadata": {},
   "source": [
    "#### 4. Media y varianza del posterior\n",
    "Para una distribución $\\text{Beta}(\\alpha,\\beta)$:\n",
    "\n",
    "$$\n",
    "\\mathbb{E}[p] = \\frac{\\alpha}{\\alpha+\\beta},\n",
    "\\qquad\n",
    "\\operatorname{Var}(p) = \\frac{\\alpha\\beta}{(\\alpha+\\beta)^2(\\alpha+\\beta+1)}.\n",
    "$$\n",
    "\n",
    "Con $\\alpha = 2, \\beta = 8$:\n",
    "\n",
    "$$\n",
    "\\mathbb{E}[p] = \\frac{2}{2+8} = 0.20,\n",
    "$$\n",
    "\n",
    "$$\n",
    "\\operatorname{Var}(p) = \\frac{2 \\cdot 8}{(10)^2(11)} = \\frac{16}{1100} \\approx 0.01455.\n",
    "$$\n"
   ]
  },
  {
   "cell_type": "code",
   "execution_count": 16,
   "id": "e97602ef-16b7-417c-bec9-5ba26fa269f3",
   "metadata": {},
   "outputs": [
    {
     "name": "stdout",
     "output_type": "stream",
     "text": [
      "Media posterior = 0.2\n",
      "Varianza posterior = 0.014545454545454545\n"
     ]
    }
   ],
   "source": [
    "# Media y varianza del posterior\n",
    "mean_post = alpha_post / (alpha_post + beta_post)\n",
    "var_post = (alpha_post * beta_post) / (((alpha_post + beta_post)**2) * (alpha_post + beta_post + 1))\n",
    "\n",
    "print(\"Media posterior =\", mean_post)\n",
    "print(\"Varianza posterior =\", var_post)"
   ]
  },
  {
   "cell_type": "markdown",
   "id": "89b37d73-2207-4548-a4e8-c72bb9a03033",
   "metadata": {},
   "source": [
    "La **media posterior** resulta de *0.2* y la **varianza posterior** de *0.0145*"
   ]
  },
  {
   "cell_type": "code",
   "execution_count": 17,
   "id": "12fb079c-92eb-4f0a-8a70-d62110c88596",
   "metadata": {},
   "outputs": [
    {
     "name": "stdout",
     "output_type": "stream",
     "text": [
      "Intervalo creíble 95%: ( 0.028144973477898197 , 0.48249651491733697 )\n"
     ]
    }
   ],
   "source": [
    "# Intervalo creíble del 95%\n",
    "ci_lower, ci_upper = beta.ppf([0.025, 0.975], alpha_post, beta_post)\n",
    "print(\"Intervalo creíble 95%: (\", ci_lower, \",\", ci_upper, \")\")\n"
   ]
  },
  {
   "cell_type": "code",
   "execution_count": 18,
   "id": "cd75dc14-94e3-4752-8319-e45c2da038aa",
   "metadata": {},
   "outputs": [
    {
     "data": {
      "image/png": "[encoded data removed]",
      "text/plain": [
       "<Figure size 800x500 with 1 Axes>"
      ]
     },
     "metadata": {},
     "output_type": "display_data"
    }
   ],
   "source": [
    "# Parámetros\n",
    "alpha0, beta0 = 1, 3   # Prior Beta(1,3)\n",
    "alpha_post, beta_post = 2, 8   # Posterior Beta(2,8) con n=6, x=1\n",
    "\n",
    "# Rango de valores para p\n",
    "p = np.linspace(0, 1, 200)\n",
    "\n",
    "# Densidades\n",
    "prior_pdf = beta.pdf(p, alpha0, beta0)\n",
    "post_pdf = beta.pdf(p, alpha_post, beta_post)\n",
    "\n",
    "# Graficar\n",
    "plt.figure(figsize=(8,5))\n",
    "plt.plot(p, prior_pdf, 'b--', label='Prior Beta(1,3)')\n",
    "plt.plot(p, post_pdf, 'r-', label='Posterior Beta(2,8)')\n",
    "plt.fill_between(p, 0, prior_pdf, color='blue', alpha=0.2)\n",
    "plt.fill_between(p, 0, post_pdf, color='red', alpha=0.2)\n",
    "\n",
    "plt.title(\"Distribución a priori y a posteriori de p (morosidad)\")\n",
    "plt.xlabel(\"p (proporción de morosidad)\")\n",
    "plt.ylabel(\"Densidad\")\n",
    "plt.legend()\n",
    "plt.grid(True)\n",
    "plt.show()"
   ]
  }
 ],
 "metadata": {
  "kernelspec": {
   "display_name": "Python 3 (ipykernel)",
   "language": "python",
   "name": "python3"
  },
  "language_info": {
   "codemirror_mode": {
    "name": "ipython",
    "version": 3
   },
   "file_extension": ".py",
   "mimetype": "text/x-python",
   "name": "python",
   "nbconvert_exporter": "python",
   "pygments_lexer": "ipython3",
   "version": "3.11.13"
  }
 },
 "nbformat": 4,
 "nbformat_minor": 5
}
